{
 "cells": [
  {
   "cell_type": "markdown",
   "metadata": {},
   "source": [
    "# Scipp widgets introduction\n",
    "\n",
    "[Scipp](https://scipp.github.io/) is a python data structure module for handling multi-dimensional data arrays with labeled dimensions. \n",
    "Data reduction or analysis workflows using this module often take the form of ipython notebooks. \n",
    "\n",
    "\n",
    "Scipp-widgets is a separate module containing some simple scipp specific wrappers using [ipywidgets](https://ipywidgets.readthedocs.io/) to allows graphical elements to be easily incorporated into such notebooks.\n",
    "This can be installed using conda with the command `conda install -c scipp/label/dev scipp-widgets`.\n",
    "\n",
    "In this context, a widget is a generic term describing the building blocks from which a user interface can be constructed.\n",
    "As widgets are often nested, this can lead to the entire interface being a widget that contains sub-widgets within it."
   ]
  },
  {
   "cell_type": "markdown",
   "metadata": {},
   "source": [
    "## Introductory examples\n",
    "For demonstration purposes we first create a simple set of [scipp](https://scipp.github.io/tutorials/multi-d-datasets.html) data."
   ]
  },
  {
   "cell_type": "code",
   "execution_count": null,
   "metadata": {},
   "outputs": [],
   "source": [
    "import numpy as np\n",
    "import scipp as sc\n",
    "var =sc.Variable(['x', 'z'], values=np.arange(0.0, 10.0, 0.1).reshape(10, 10),\n",
    "                                              variances=0.1*np.random.rand(10, 10))\n",
    "sc.show(var)"
   ]
  },
  {
   "cell_type": "markdown",
   "metadata": {},
   "source": [
    "## Wrapping a processing function\n",
    "Scipp-widgets allows functions to be wrapped in simple graphical interfaces.\n",
    "Taking inputs from, and returning outputs to, the notebook's global scope.\n",
    "As a first example, take the `scipp.sum` function.\n",
    "\n",
    "We will need to create an input specification object describing how we want the graphical inputs displayed, what validation we wish to perform, and the argument of the underlying function to which they should correspond.\n",
    "Currently there is no way to specify layout options."
   ]
  },
  {
   "cell_type": "code",
   "execution_count": null,
   "metadata": {},
   "outputs": [],
   "source": [
    "from scippwidgets import Input, TextInput\n",
    "data_input = Input('x', placeholder='input data')\n",
    "dimension_input = TextInput('dim', options = ('x', 'z'))"
   ]
  },
  {
   "cell_type": "markdown",
   "metadata": {},
   "source": [
    "A simple user interface which wraps the sum function can then be constructed like so:"
   ]
  },
  {
   "cell_type": "code",
   "execution_count": null,
   "metadata": {},
   "outputs": [],
   "source": [
    "from scippwidgets import ProcessWidget\n",
    "ProcessWidget(sc.sum, [data_input, dimension_input])"
   ]
  },
  {
   "cell_type": "markdown",
   "metadata": {},
   "source": [
    "## Wrapping a display function\n",
    "\n",
    "Another common case is to wrap a function and display its result without adding it to the notebook's global scope.\n",
    "As an example, take the `scipp.plot` function. This takes a scipp object and plots it. "
   ]
  },
  {
   "cell_type": "code",
   "execution_count": null,
   "metadata": {},
   "outputs": [],
   "source": [
    "from scippwidgets import DisplayWidget\n",
    "data_input = Input('scipp_obj')\n",
    "DisplayWidget(sc.plot, [data_input])"
   ]
  },
  {
   "cell_type": "markdown",
   "metadata": {},
   "source": [
    "As plotting is a very common operation there is also a seperate `PlotWidget` object which acts as a shothand for the above."
   ]
  },
  {
   "cell_type": "code",
   "execution_count": null,
   "metadata": {},
   "outputs": [],
   "source": [
    "from scippwidgets import PlotWidget\n",
    "PlotWidget()"
   ]
  },
  {
   "cell_type": "markdown",
   "metadata": {},
   "source": [
    "## Validators\n",
    "Validator methods can be added to any input. \n",
    "These are run when the widget is processing and serve to both perform any pre-processing the input needs before it is passed to the underlying function, as well as perform any validation specified.\n",
    "\n",
    "For example, we could add a validator to our wrapped plot function meaning it will only accept scipp objects as inputs."
   ]
  },
  {
   "cell_type": "code",
   "execution_count": null,
   "metadata": {},
   "outputs": [],
   "source": [
    "from scippwidgets.validators import ScippObjectValidator\n",
    "scipp_object_validator = ScippObjectValidator()\n",
    "data_input = Input('scipp_obj', validator=scipp_object_validator, tooltip='Data to plot')\n",
    "DisplayWidget(sc.plot, [data_input])"
   ]
  },
  {
   "cell_type": "markdown",
   "metadata": {},
   "source": [
    "## Hiding code\n",
    "The code block used to create a widget can be hidden using the key word argument `hide_code`.\n",
    "This adds an additional button labelled `Py` to toggle the visibility of the preceding code block."
   ]
  },
  {
   "cell_type": "code",
   "execution_count": null,
   "metadata": {},
   "outputs": [],
   "source": [
    "data_input = Input('scipp_obj', validator=scipp_object_validator, tooltip='Data to plot')\n",
    "DisplayWidget(sc.plot, [data_input], hide_code=True)"
   ]
  },
  {
   "cell_type": "markdown",
   "metadata": {},
   "source": [
    "## Layout options\n",
    "The layout keyword in a widgets constructor controls the layout of user-input widgets.\n",
    "This value is used as the [flex-flow](https://ipywidgets.readthedocs.io/en/stable/examples/Widget%20Styling.html#The-Flexbox-layout) property of the contained ipywidget.\n",
    "Common useful options are `row`, `row wrap` and `column`.\n",
    "These will layout the subwidgets in: one row; a row which wraps onto new lines; one column, respectively.\n",
    "By default layout is set to `row wrap`"
   ]
  },
  {
   "cell_type": "code",
   "execution_count": null,
   "metadata": {},
   "outputs": [],
   "source": [
    "PlotWidget(layout='column')"
   ]
  },
  {
   "cell_type": "markdown",
   "metadata": {},
   "source": [
    "## Further reading\n",
    "For a full list of the available widgets, inputs and validators see:\n",
    "\n",
    "* [widgets list](widgets.ipynb)\n",
    "\n",
    "* [inputs list](inputs.ipynb)\n",
    "\n",
    "* [validators list](validators.ipynb)\n",
    " \n",
    "For information on how to write your own inputs and validators see [concepts](concepts.ipynb)"
   ]
  }
 ],
 "metadata": {
  "kernelspec": {
   "display_name": "Python 3",
   "language": "python",
   "name": "python3"
  },
  "language_info": {
   "codemirror_mode": {
    "name": "ipython",
    "version": 3
   },
   "file_extension": ".py",
   "mimetype": "text/x-python",
   "name": "python",
   "nbconvert_exporter": "python",
   "pygments_lexer": "ipython3",
   "version": "3.9.1"
  }
 },
 "nbformat": 4,
 "nbformat_minor": 4
}
